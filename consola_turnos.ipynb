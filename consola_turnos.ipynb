{
 "cells": [
  {
   "cell_type": "markdown",
   "metadata": {},
   "source": [
    "# CONSOLA TURNOS:\n",
    "El desafío consiste en crear un software que funcione como un sistema de turnos para una farmacia, donde se asigna un número de turno según el área de atención seleccionada por el cliente. En este caso, la farmacia cuenta con tres áreas de atención: perfumería, farmacia y cosméticos.\n",
    "\n",
    "El programa debe preguntar al cliente a qué área desea dirigirse y asignar un número de turno correspondiente. Por ejemplo, si elige cosmética, se le asignaría el número C-54. Luego de esto, el programa preguntará si se desea sacar otro turno para simular la llegada de un nuevo cliente, repitiendo el proceso nuevamente."
   ]
  },
  {
   "cell_type": "markdown",
   "metadata": {},
   "source": [
    "## Código número"
   ]
  },
  {
   "cell_type": "code",
   "execution_count": 1,
   "metadata": {},
   "outputs": [],
   "source": [
    "def numeros_perfumeria():\n",
    "    for n in range(1, 10000):\n",
    "        yield f\"P - {n}\"\n",
    "\n",
    "\n",
    "def numeros_farmacia():\n",
    "    for n in range(1, 10000):\n",
    "        yield f\"F - {n}\"\n",
    "\n",
    "\n",
    "def numeros_cosmetica():\n",
    "    for n in range(1, 10000):\n",
    "        yield f\"C - {n}\"\n",
    "\n",
    "\n",
    "p = numeros_perfumeria()\n",
    "f = numeros_farmacia()\n",
    "c = numeros_cosmetica()\n",
    "\n",
    "\n",
    "def decorador(ticket):\n",
    "\n",
    "    print(\"\\n\" + \"*\" * 23)\n",
    "    print(\"Su número es:\")\n",
    "    if ticket == \"P\":\n",
    "        print(next(p))\n",
    "    elif ticket == \"F\":\n",
    "        print(next(f))\n",
    "    else:\n",
    "        print(next(c))\n",
    "    print(\"Aguarde y será atendido\")\n",
    "    print(\"*\" * 23 + \"\\n\")\n"
   ]
  },
  {
   "cell_type": "markdown",
   "metadata": {},
   "source": [
    "## Consola de turnos"
   ]
  },
  {
   "cell_type": "code",
   "execution_count": 2,
   "metadata": {},
   "outputs": [
    {
     "name": "stdout",
     "output_type": "stream",
     "text": [
      "Bienvenido a la Farmacia Espada\n",
      "[P] - Perfumería\n",
      "[F] - Farmacia\n",
      "[C] - Cosmética\n",
      "Esa no es una opción válida\n",
      "[P] - Perfumería\n",
      "[F] - Farmacia\n",
      "[C] - Cosmética\n",
      "\n",
      "***********************\n",
      "Su número es:\n",
      "F - 1\n",
      "Aguarde y será atendido\n",
      "***********************\n",
      "\n",
      "Gracias por su visita. Hasta pronto.\n"
     ]
    }
   ],
   "source": [
    "def preguntar():\n",
    "\n",
    "    print(\"Bienvenido a la Farmacia Espada\")\n",
    "\n",
    "    while True:\n",
    "        print(\"[P] - Perfumería\\n[F] - Farmacia\\n[C] - Cosmética\")\n",
    "        try:\n",
    "            mi_ticket = input(\"Elija su ticket: \").upper()\n",
    "            [\"P\", \"F\", \"C\"].index(mi_ticket)\n",
    "        except ValueError:\n",
    "            print(\"Esa no es una opción válida\")\n",
    "        else:\n",
    "            break\n",
    "\n",
    "    decorador(mi_ticket)\n",
    "\n",
    "\n",
    "def inicio():\n",
    "\n",
    "    while True:\n",
    "        preguntar()\n",
    "        try:\n",
    "            otro_turno = input(\"Quieres sacar otro turno? [S] [N]: \").upper()\n",
    "            [\"S\", \"N\"].index(otro_turno)\n",
    "        except ValueError:\n",
    "            print(\"No es una opción válida\")\n",
    "        else:\n",
    "            if otro_turno == \"N\":\n",
    "                print(\"Gracias por su visita. Hasta pronto.\")\n",
    "                break\n",
    "\n",
    "inicio()\n"
   ]
  }
 ],
 "metadata": {
  "kernelspec": {
   "display_name": "Python 3",
   "language": "python",
   "name": "python3"
  },
  "language_info": {
   "codemirror_mode": {
    "name": "ipython",
    "version": 3
   },
   "file_extension": ".py",
   "mimetype": "text/x-python",
   "name": "python",
   "nbconvert_exporter": "python",
   "pygments_lexer": "ipython3",
   "version": "3.12.0"
  }
 },
 "nbformat": 4,
 "nbformat_minor": 2
}
